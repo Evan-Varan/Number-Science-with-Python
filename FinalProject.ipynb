{
 "cells": [
  {
   "cell_type": "markdown",
   "source": [
    "### Evan Varan\n",
    "### lze4\n",
    "### 41\n",
    "### Final Project - Option 1"
   ],
   "metadata": {
    "collapsed": false
   },
   "id": "99944c700ea9f5ea"
  },
  {
   "cell_type": "markdown",
   "source": [
    "# Decimal to Binary Function"
   ],
   "metadata": {
    "collapsed": false
   },
   "id": "a1acae0cfd70e25e"
  },
  {
   "cell_type": "code",
   "outputs": [],
   "source": [
    "#TODO: ADD ALL DOCSTRINGS\n",
    "\n",
    "def dec2bin(x, n = 1):\n",
    "    if type(x) != int:\n",
    "        return \"Please enter an integer\"\n",
    "    binString = \"\"\n",
    "    originalNumber = x\n",
    "    number = abs(x)\n",
    "    while number > 0:\n",
    "        mod = number % 2\n",
    "        binString = str(mod) + binString\n",
    "        number = number // 2\n",
    "    \n",
    "    while len(binString) < n:\n",
    "        binString = \"0\" + binString\n",
    "    \n",
    "    if originalNumber < 0:\n",
    "        binString = twosComplement(binString, \"Binary\")\n",
    "    return binString\n",
    "        \n",
    "def twosComplement(binString,returnType):\n",
    "    invertedString = \"\"\n",
    "    for i in  range (len(binString)):\n",
    "        if binString[i] == '0':\n",
    "            invertedString += '1'\n",
    "        elif binString[i] == '1':\n",
    "            invertedString += '0'\n",
    "    \n",
    "    twosComplementDecimal = 0\n",
    "    exp = 0\n",
    "    for i in range (len(invertedString) - 1, -1, -1):\n",
    "        if invertedString[i] == '1':\n",
    "            twosComplementDecimal += 2 ** exp\n",
    "        exp +=1\n",
    "    twosComplementDecimal += 1\n",
    "    \n",
    "    if returnType == \"Decimal\":\n",
    "        return twosComplementDecimal\n",
    "    elif returnType == \"Binary\":\n",
    "        twosComplementBinary = dec2bin(twosComplementDecimal, 1)\n",
    "        return twosComplementBinary\n",
    "\n"
   ],
   "metadata": {
    "collapsed": false,
    "ExecuteTime": {
     "end_time": "2024-11-06T18:23:09.558197Z",
     "start_time": "2024-11-06T18:23:09.549129Z"
    }
   },
   "id": "628bf868b5e5fbf1",
   "execution_count": 115
  },
  {
   "cell_type": "markdown",
   "source": [
    "# Binary to Decimal Function"
   ],
   "metadata": {
    "collapsed": false
   },
   "id": "c4e710c903a82d47"
  },
  {
   "cell_type": "code",
   "outputs": [
    {
     "name": "stdout",
     "output_type": "stream",
     "text": [
      "16\n",
      "-9\n",
      "9\n",
      "001001\n",
      "100111\n",
      "0011\n",
      "11110001\n"
     ]
    }
   ],
   "source": [
    "def bin2dec(x):\n",
    "    if type(x) != str or not set(x).issubset({'0', '1'}):\n",
    "        return \"Please enter a binary number\"\n",
    "    decimalNumber = 0\n",
    "    exp = 0\n",
    "    if x[0] == '0':\n",
    "        for i in range (len(x) - 1, -1, -1):\n",
    "            if x[i] == '1':\n",
    "                decimalNumber += 2 ** exp\n",
    "            exp +=1\n",
    "        return decimalNumber\n",
    "    else:\n",
    "        decimalNumber = twosComplement(x, \"Decimal\")\n",
    "        return decimalNumber * -1\n",
    "print(bin2dec(\"010000\"))    \n",
    "print(bin2dec(\"110111\")) \n",
    "print(bin2dec(\"01001\")) \n",
    "print(dec2bin(9, 6))       # Expected Output: '001001'\n",
    "print(dec2bin(-25,6))      # Expected Output: '110111'\n",
    "print(dec2bin(3, 4))       # Expected Output: '0011'\n",
    "print(dec2bin(-15, 8))     # Expected Output: '11110001'\n"
   ],
   "metadata": {
    "collapsed": false,
    "ExecuteTime": {
     "end_time": "2024-11-06T18:23:09.612549Z",
     "start_time": "2024-11-06T18:23:09.597569Z"
    }
   },
   "id": "ad719ae8edfe456a",
   "execution_count": 116
  },
  {
   "cell_type": "markdown",
   "source": [],
   "metadata": {
    "collapsed": false
   },
   "id": "de83641870827291"
  },
  {
   "cell_type": "markdown",
   "source": [
    "# Decimal to Hex Function"
   ],
   "metadata": {
    "collapsed": false
   },
   "id": "76fd5b69193b7b74"
  },
  {
   "cell_type": "code",
   "outputs": [],
   "source": [
    "def dec2hex(x, n=1):\n",
    "    if type(x) != int:\n",
    "        return \"Please enter an integer\"\n",
    "    hexString = \"\"\n",
    "    if x < 0:\n",
    "        binaryNumber = dec2bin(x, n)\n",
    "        print(binaryNumber)\n",
    "        while len(binaryNumber)  % 4 != 0:\n",
    "            binaryNumber = \"0\" + binaryNumber\n",
    "        hexString = \"\"\n",
    "        for i in range(0, len(binaryNumber), 4):\n",
    "            fourBitChunk = binaryNumber[i:i+4]\n",
    "            if fourBitChunk[0] == \"1\":\n",
    "                fourBitChunk = \"0\" + fourBitChunk\n",
    "            value = bin2dec(fourBitChunk)\n",
    "            if value == 10:\n",
    "                addString = \"A\"\n",
    "            elif value == 11:\n",
    "                addString = \"B\"\n",
    "            elif value == 12:\n",
    "                addString = \"C\"\n",
    "            elif value == 13:\n",
    "                addString = \"D\"\n",
    "            elif value == 14:\n",
    "                addString = \"E\"\n",
    "            elif value == 15:\n",
    "                addString = \"F\"\n",
    "            else:\n",
    "                addString = str(value)\n",
    "            hexString += addString\n",
    "        return hexString\n",
    "            \n",
    "    else:\n",
    "        while x > 0:\n",
    "            mod = x % 16\n",
    "            if mod == 10:\n",
    "                addString = \"A\"\n",
    "            elif mod == 11:\n",
    "                addString = \"B\"\n",
    "            elif mod == 12:\n",
    "                addString = \"C\"\n",
    "            elif mod == 13:\n",
    "                addString = \"D\"\n",
    "            elif mod == 14:\n",
    "                addString = \"E\"\n",
    "            elif mod == 15:\n",
    "                addString = \"F\"\n",
    "            else:\n",
    "                addString = str(mod)\n",
    "            hexString = addString + hexString\n",
    "            x = x // 16\n",
    "        while len(hexString) < n:\n",
    "            hexString = \"0\" + hexString\n",
    "        return hexString\n"
   ],
   "metadata": {
    "collapsed": false,
    "ExecuteTime": {
     "end_time": "2024-11-06T18:23:09.637707Z",
     "start_time": "2024-11-06T18:23:09.615849Z"
    }
   },
   "id": "8253bd03b72897f4",
   "execution_count": 117
  },
  {
   "cell_type": "markdown",
   "source": [
    "# Binary to Hexadecimal Function"
   ],
   "metadata": {
    "collapsed": false
   },
   "id": "7790570178953c03"
  },
  {
   "cell_type": "code",
   "outputs": [],
   "source": [
    "def bin2hex(x):\n",
    "    if type(x) != str:\n",
    "        return \"Please enter a binary number\"\n",
    "    hexString = \"\"\n",
    "    for i in range(0, len(x), 4):\n",
    "        fourBitChunk = x[i:i+4]\n",
    "        if fourBitChunk[0] == \"1\":\n",
    "            fourBitChunk = \"0\" + fourBitChunk\n",
    "        value = bin2dec(fourBitChunk)\n",
    "        if value == 10:\n",
    "            addString = \"A\"\n",
    "        elif value == 11:\n",
    "            addString = \"B\"\n",
    "        elif value == 12:\n",
    "            addString = \"C\"\n",
    "        elif value == 13:\n",
    "            addString = \"D\"\n",
    "        elif value == 14:\n",
    "            addString = \"E\"\n",
    "        elif value == 15:\n",
    "            addString = \"F\"\n",
    "        else:\n",
    "            addString = str(value)\n",
    "        hexString += addString\n",
    "    return hexString\n",
    "\n"
   ],
   "metadata": {
    "collapsed": false,
    "ExecuteTime": {
     "end_time": "2024-11-06T18:23:09.660378Z",
     "start_time": "2024-11-06T18:23:09.642036Z"
    }
   },
   "id": "cc4bd0b166c59d6",
   "execution_count": 118
  },
  {
   "cell_type": "markdown",
   "source": [
    "# Hexadecimal to Binary Function"
   ],
   "metadata": {
    "collapsed": false
   },
   "id": "380e0429d33ab57d"
  },
  {
   "cell_type": "code",
   "outputs": [
    {
     "name": "stdout",
     "output_type": "stream",
     "text": [
      "000000000000001111111111\n",
      "001111111111\n",
      "1111111111110000\n"
     ]
    }
   ],
   "source": [
    "def hex2bin(x):\n",
    "    if type(x) != str: #TODO: Check input type\n",
    "        return \"Please enter a hexadecimal number\"\n",
    "    binString = \"\"\n",
    "    for i in range(len(x)):\n",
    "        decValue = x[i]\n",
    "        if decValue == \"A\":\n",
    "            decValue = \"10\"\n",
    "        elif decValue == \"B\":\n",
    "            decValue = \"11\"\n",
    "        elif decValue == \"C\":\n",
    "            decValue = \"12\"\n",
    "        elif decValue == \"D\":\n",
    "            decValue = \"13\"\n",
    "        elif decValue == \"E\":\n",
    "            decValue = \"14\"\n",
    "        elif decValue == \"F\":\n",
    "            decValue = \"15\"\n",
    "        binValue = dec2bin(int(decValue), 4)\n",
    "        binString += binValue\n",
    "    return binString\n",
    "\n",
    "print(hex2bin(\"0003FF\"))\n",
    "print(hex2bin(\"3FF\"))\n",
    "print(hex2bin(\"FFF0\"))\n",
    "#print(hex2bin(\"Hello\"))"
   ],
   "metadata": {
    "collapsed": false,
    "ExecuteTime": {
     "end_time": "2024-11-06T18:23:09.678609Z",
     "start_time": "2024-11-06T18:23:09.664903Z"
    }
   },
   "id": "f3ce3a5feadda018",
   "execution_count": 119
  },
  {
   "cell_type": "markdown",
   "source": [
    "# Decimal to Float Function"
   ],
   "metadata": {
    "collapsed": false
   },
   "id": "2e31521dd337fae"
  },
  {
   "cell_type": "code",
   "outputs": [
    {
     "name": "stdout",
     "output_type": "stream",
     "text": [
      "01000010111100000000000000000000\n",
      "11000010111100000000000000000000\n",
      "01000000110110000000000000000000\n"
     ]
    }
   ],
   "source": [
    "def dec2float(x):\n",
    "    # if type(x) != int and type(x) != float: #TODO: Check input type\n",
    "    #     return \"Please enter a number\"\n",
    "    if x >= 0:\n",
    "        sign_bit = \"0\"\n",
    "        \n",
    "    else:\n",
    "        sign_bit = \"1\"\n",
    "    if isinstance(x, int):\n",
    "        x = abs(x)\n",
    "        binary_value = dec2bin(x)\n",
    "        exponent = len(binary_value[1:]) + 127\n",
    "        exponent = str(dec2bin(exponent))\n",
    "        mantissa = str(binary_value[1:])\n",
    "        while len(mantissa) != 23 :\n",
    "            mantissa = mantissa + \"0\"\n",
    "        float_value = sign_bit + exponent + mantissa\n",
    "        return float_value\n",
    "    \n",
    "    if isinstance(x, float):\n",
    "        int_string = str(dec2bin(int(x)))\n",
    "        fraction_part = x - int(x)\n",
    "        fraction_string = \"\"\n",
    "        #TODO: Re-write this while loop\n",
    "        while fraction_part > 0 and len(fraction_string) < 23:\n",
    "            fraction_part *= 2\n",
    "            if fraction_part >= 1:\n",
    "                fraction_string += \"1\"\n",
    "                fraction_part -= 1\n",
    "            else:\n",
    "                fraction_string += \"0\"\n",
    "        integer_and_binary = int_string + fraction_string\n",
    "        exponent = dec2bin(len(int_string) - 1 + 127)\n",
    "        mantissa = integer_and_binary[1:]\n",
    "        while len(mantissa) != 23 :\n",
    "            mantissa = mantissa + \"0\"    \n",
    "        return sign_bit + exponent + mantissa\n",
    "        \n",
    "print(dec2float(120))\n",
    "print(dec2float(-120))\n",
    "print(dec2float(6.75)) #12.34 doesnt work"
   ],
   "metadata": {
    "collapsed": false,
    "ExecuteTime": {
     "end_time": "2024-11-06T18:23:09.698359Z",
     "start_time": "2024-11-06T18:23:09.682070Z"
    }
   },
   "id": "b3793a265653dc0b",
   "execution_count": 120
  },
  {
   "cell_type": "markdown",
   "source": [
    "# Binary to Float Function"
   ],
   "metadata": {
    "collapsed": false
   },
   "id": "5201e31c6218cfbc"
  },
  {
   "cell_type": "code",
   "outputs": [
    {
     "data": {
      "text/plain": "'11000000111000000000000000000000'"
     },
     "execution_count": 121,
     "metadata": {},
     "output_type": "execute_result"
    }
   ],
   "source": [
    "def bin2float(x):\n",
    "    # if type(x) != int and type(x) != float: #TODO: Check input type\n",
    "    #     return \"Please enter a number\"\n",
    "    decimal_number = bin2dec(x) #TODO: fix for non-whole numbers\n",
    "    float_number = dec2float(decimal_number)\n",
    "    return float_number\n",
    "bin2float(\"11001\")"
   ],
   "metadata": {
    "collapsed": false,
    "ExecuteTime": {
     "end_time": "2024-11-06T18:23:09.716125Z",
     "start_time": "2024-11-06T18:23:09.701934Z"
    }
   },
   "id": "fc6ac232ea7e6786",
   "execution_count": 121
  },
  {
   "cell_type": "markdown",
   "source": [
    "# Float to Decimal Function"
   ],
   "metadata": {
    "collapsed": false
   },
   "id": "ca2a977c03a93e4f"
  },
  {
   "cell_type": "code",
   "outputs": [
    {
     "name": "stdout",
     "output_type": "stream",
     "text": [
      "2.0\n",
      "3.999999984016789e-12\n",
      "-120000000.0\n"
     ]
    }
   ],
   "source": [
    "def float2dec(x):\n",
    "    # if type(x) != int and type(x) != float: #TODO: Check input type\n",
    "    x = str(x)\n",
    "    sign_bit = x[0]\n",
    "    exponent_bits = x[1:9]\n",
    "    mantissa_bits = x[9:]\n",
    "    if sign_bit == \"1\":\n",
    "        sign_bit = -1\n",
    "    else:\n",
    "        sign_bit = 1\n",
    "    exponent = bin2dec(\"0\" + exponent_bits) - 127\n",
    "    mantissa_decimal = bin2dec(\"01\" + mantissa_bits) / (2**23)\n",
    "    decimal_number = sign_bit * (2 ** exponent) * mantissa_decimal\n",
    "    return decimal_number\n",
    "print(float2dec('01000000000000000000000000000000'))\n",
    "print(float2dec('00101100100011001011110011001100'))\n",
    "print(float2dec('11001100111001001110000111000000'))"
   ],
   "metadata": {
    "collapsed": false,
    "ExecuteTime": {
     "end_time": "2024-11-06T18:23:09.729443Z",
     "start_time": "2024-11-06T18:23:09.720435Z"
    }
   },
   "id": "e14ca72dbbfa3e56",
   "execution_count": 122
  },
  {
   "cell_type": "markdown",
   "source": [
    "# Testing"
   ],
   "metadata": {
    "collapsed": false
   },
   "id": "616ad00a1366a6d2"
  }
 ],
 "metadata": {
  "kernelspec": {
   "display_name": "Python 3",
   "language": "python",
   "name": "python3"
  },
  "language_info": {
   "codemirror_mode": {
    "name": "ipython",
    "version": 2
   },
   "file_extension": ".py",
   "mimetype": "text/x-python",
   "name": "python",
   "nbconvert_exporter": "python",
   "pygments_lexer": "ipython2",
   "version": "2.7.6"
  }
 },
 "nbformat": 4,
 "nbformat_minor": 5
}
