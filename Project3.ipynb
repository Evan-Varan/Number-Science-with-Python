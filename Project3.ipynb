{
 "cells": [
  {
   "cell_type": "markdown",
   "metadata": {},
   "source": [
    "# PROJECT 3\n",
    "\n",
    "## QUESTION 1 (15 Points): \n",
    "\n",
    "1. Write a Python program that takes two lists (A,B) and creates a dictionary ```C```. The List ```A```  elements will be keys and the list ```B``` elements will be values. \n",
    "\n",
    "```python\n",
    "# Example\n",
    "### input ###\n",
    "Name=['Beth','Dan','Kathy',\"JohnDoe\"] # This is A\n",
    "Exam=[[10,90],[70,60],[50,40],[0,0]]  # This is B\n",
    "### output ###\n",
    "C = {'Beth': [10, 90], 'Dan': [70, 60], 'Kathy': [50, 40], 'JohnDoe': [0, 0]} # Dictionary C\n",
    "```\n",
    "\n",
    "2. Write a Python program that takes four lists (A,B,C,D) and creates a dictionary ```Z```. The List ```A```  elements will be keys and the list ```B```, ```C```, and ```D``` elements will be values. \n",
    "\n",
    "```python\n",
    "# Example\n",
    "### input ###\n",
    "Name=['John','Albert',\"Layla\"] # This is A\n",
    "Exam=[[121,110],[424,515],[620,701]] # This is B\n",
    "HW=[[12,10],[44,55],[60,70]] # This is C\n",
    "Projects=[[2,1],[4,5],[6,7]] # This is D\n",
    "### output ###\n",
    "\n",
    "Z = {'John': [[121, 12, 2], [110, 10, 1]], 'Albert': [[424, 44, 4], [515, 55, 5]], 'Layla': [[620, 60, 6], [701, 70, 7]]} # Dictionary Z\n",
    "```\n",
    "\n",
    "3. Write a Python program that takes a dictionary and creates two lists (A,B). The List ```A```  elements will be keys and the list ```B``` elements will be values. \n",
    "\n",
    "```python\n",
    "# Example\n",
    "### input ###\n",
    "{'Beth': [10, 90], 'Dan': [70, 60], 'Kathy': [50, 40], 'JohnDoe': [0, 0]} # Dictionary C\n",
    "### output ###\n",
    "Name=['Beth','Dan','Kathy',\"JohnDoe\"] # This is A\n",
    "Exam=[[10,90],[70,60],[50,40],[0,0]]  # This is B\n",
    "```"
   ]
  },
  {
   "cell_type": "code",
   "outputs": [
    {
     "name": "stdout",
     "output_type": "stream",
     "text": [
      "C = {'Beth': [10, 90], 'Dan': [70, 60], 'Kathy': [50, 40], 'JohnDoe': [0, 0]}\n"
     ]
    }
   ],
   "source": [
    "#1. \n",
    "Name=['Beth','Dan','Kathy',\"JohnDoe\"] \n",
    "Exam=[[10,90],[70,60],[50,40],[0,0]] \n",
    "dictionaryC = dict(zip(Name,Exam))\n",
    "print(\"C = \" + str(dictionaryC))"
   ],
   "metadata": {
    "collapsed": false,
    "ExecuteTime": {
     "end_time": "2024-09-20T18:48:59.146221Z",
     "start_time": "2024-09-20T18:48:59.142665Z"
    }
   },
   "execution_count": 197
  },
  {
   "cell_type": "code",
   "outputs": [
    {
     "name": "stdout",
     "output_type": "stream",
     "text": [
      "EEClass = {'John': [[121, 110], [12, 10], [2, 1]], 'Albert': [[424, 515], [44, 55], [4, 5]], 'Layla': [[620, 701], [60, 70], [6, 7]]}\n"
     ]
    }
   ],
   "source": [
    "#2.\n",
    "Name=['John','Albert',\"Layla\"] # This is A\n",
    "Exam=[[121,110],[424,515],[620,701]] # This is B\n",
    "HW=[[12,10],[44,55],[60,70]] # This is C\n",
    "Projects=[[2,1],[4,5],[6,7]] # This is D\n",
    "\n",
    "\n",
    "EEClass = {}\n",
    "for Name, Exam, HW, Projects in zip(Name, Exam, HW, Projects):\n",
    "    EEClass[Name] = [Exam, HW, Projects]\n",
    "\n",
    "print(\"EEClass =\", EEClass)\n",
    "#TODO"
   ],
   "metadata": {
    "collapsed": false,
    "ExecuteTime": {
     "end_time": "2024-09-20T18:48:59.182577Z",
     "start_time": "2024-09-20T18:48:59.177208Z"
    }
   },
   "execution_count": 198
  },
  {
   "cell_type": "code",
   "outputs": [
    {
     "name": "stdout",
     "output_type": "stream",
     "text": [
      "Name =  ['Beth', 'Dan', 'Kathy', 'JohnDoe']\n",
      "Exam =  [[10, 90], [70, 60], [50, 40], [0, 0]]\n"
     ]
    }
   ],
   "source": [
    "#3.\n",
    "C = {'Beth': [10, 90], 'Dan': [70, 60], 'Kathy': [50, 40], 'JohnDoe': [0, 0]}\n",
    "Name = list(C.keys())\n",
    "Exam = list(C.values())\n",
    "print(\"Name = \", Name)\n",
    "print(\"Exam = \", Exam)"
   ],
   "metadata": {
    "collapsed": false,
    "ExecuteTime": {
     "end_time": "2024-09-20T18:48:59.197070Z",
     "start_time": "2024-09-20T18:48:59.183582Z"
    }
   },
   "execution_count": 199
  },
  {
   "cell_type": "markdown",
   "metadata": {},
   "source": [
    "## QUESTION 2 (15 Points): \n",
    "\n",
    "1. Write a Python program that takes three lists (names, Exam1, and Exam2) and creates a dictionary ```EEClass```. The List ```names```  elements will be keys and the list ```Exam1``` and ```Exam2``` elements will be values. Please follow the Example \n",
    "\n",
    "```python\n",
    "# Example\n",
    "### input ###\n",
    "names=['Beth','Dan','Kathy','Mark','Mary','Susie']\n",
    "Exam1=[10,90,70,60,50,40]\n",
    "Exam2=[90,80,90,30,90,70]\n",
    "### output ###\n",
    "EEClass={'Beth': [10, 90],'Dan': [90, 80], 'Kathy': [70, 90], 'Mark': [60, 30], 'Mary': [50, 90], 'Susie': [40, 70]}\n",
    "```\n",
    "\n",
    "2. Write a Python program that takes the ```EEClass``` dictionary in Question 2.1 and updates Exam1 grades for everyone 10 extra points. \n",
    "\n",
    "```python\n",
    "# Example\n",
    "### input ###\n",
    "{'Beth': [10, 90],'Dan': [90, 80], 'Kathy': [70, 90], 'Mark': [60, 30], 'Mary': [50, 90], 'Susie': [40, 70]}\n",
    "### output ###\n",
    "\n",
    "{'Beth': [20, 90],'Dan': [100, 80], 'Kathy': [80, 90], 'Mark': [70, 30], 'Mary': [60, 90], 'Susie': [50, 70]} # Dictionary Z\n",
    "```\n",
    "\n",
    "3. Write a Python program that takes the  ```EEClass``` dictionary in Question 2.1 and calculates Exam Average and updates the dictionary as shwon below.\n",
    "\n",
    "```python\n",
    "# Example\n",
    "### input ###\n",
    "{'Beth': [10, 90],'Dan': [90, 80], 'Kathy': [70, 90], 'Mark': [60, 30], 'Mary': [50, 90], 'Susie': [40, 70]}\n",
    "### output ###\n",
    "\n",
    "{'Beth': [10, 90, 50],'Dan': [90, 80, 85], 'Kathy': [70, 90, 80], 'Mark': [60, 30, 45], 'Mary': [50, 90, 70], 'Susie': [40, 70, 55]} # Dictionary Z\n",
    "```"
   ]
  },
  {
   "cell_type": "code",
   "outputs": [
    {
     "name": "stdout",
     "output_type": "stream",
     "text": [
      "EEClass = {'Beth': [10, 90], 'Dan': [90, 80], 'Kathy': [70, 90], 'Mark': [60, 30], 'Mary': [50, 90], 'Susie': [40, 70]}\n"
     ]
    }
   ],
   "source": [
    "#1.\n",
    "names = ['Beth', 'Dan', 'Kathy', 'Mark', 'Mary', 'Susie']\n",
    "Exam1 = [10, 90, 70, 60, 50, 40]\n",
    "Exam2 = [90, 80, 90, 30, 90, 70]\n",
    "\n",
    "EEClass = {}\n",
    "for name, exam1, exam2 in zip(names, Exam1, Exam2):\n",
    "    EEClass[name] = [exam1, exam2]\n",
    "\n",
    "print(\"EEClass =\", EEClass)\n"
   ],
   "metadata": {
    "collapsed": false,
    "ExecuteTime": {
     "end_time": "2024-09-20T18:48:59.209010Z",
     "start_time": "2024-09-20T18:48:59.198069Z"
    }
   },
   "execution_count": 200
  },
  {
   "cell_type": "code",
   "outputs": [
    {
     "name": "stdout",
     "output_type": "stream",
     "text": [
      "EEClass = {'Beth': [20, 90], 'Dan': [100, 80], 'Kathy': [80, 90], 'Mark': [70, 30], 'Mary': [60, 90], 'Susie': [50, 70]}\n"
     ]
    }
   ],
   "source": [
    "#2.\n",
    "for key in EEClass:\n",
    "    EEClass[key][0] += 10\n",
    "print(\"EEClass =\", EEClass)"
   ],
   "metadata": {
    "collapsed": false,
    "ExecuteTime": {
     "end_time": "2024-09-20T18:48:59.220759Z",
     "start_time": "2024-09-20T18:48:59.209010Z"
    }
   },
   "execution_count": 201
  },
  {
   "cell_type": "code",
   "outputs": [
    {
     "name": "stdout",
     "output_type": "stream",
     "text": [
      "EEClass = {'Beth': [10, 90, 50], 'Dan': [90, 80, 85], 'Kathy': [70, 90, 80], 'Mark': [60, 30, 45], 'Mary': [50, 90, 70], 'Susie': [40, 70, 55]}\n"
     ]
    }
   ],
   "source": [
    "#3.\n",
    "names = ['Beth', 'Dan', 'Kathy', 'Mark', 'Mary', 'Susie']\n",
    "Exam1 = [10, 90, 70, 60, 50, 40]\n",
    "Exam2 = [90, 80, 90, 30, 90, 70]\n",
    "\n",
    "EEClass = {}\n",
    "for name, exam1, exam2 in zip(names, Exam1, Exam2):\n",
    "    EEClass[name] = [exam1, exam2]\n",
    "    \n",
    "for key in EEClass:\n",
    "    average = (EEClass[key][0] + EEClass[key][1]) / 2 \n",
    "    EEClass[key].append(round(average))\n",
    "print(\"EEClass =\", EEClass)"
   ],
   "metadata": {
    "collapsed": false,
    "ExecuteTime": {
     "end_time": "2024-09-20T18:48:59.233713Z",
     "start_time": "2024-09-20T18:48:59.223154Z"
    }
   },
   "execution_count": 202
  },
  {
   "cell_type": "markdown",
   "metadata": {
    "tags": []
   },
   "source": [
    "## QUESTION 3 (10 Points): \n",
    "\n",
    "Create a shopping list file using python\n",
    "\n",
    "* Ask user his/her name\n",
    "* Ask shopping date (try to get this date from OS if you can)\n",
    "* Ask user the list of the items for shopping. User must enter all items at once separated by commas without spaces.\n",
    "* Please see the example below\n",
    "\n",
    "```python\n",
    "# Assume user entered 'Bananas, Apples, Oranges, Bread, Milk'\n",
    "# file name \"Shopping.txt\"\n",
    "Name: John Doe\n",
    "Date: 9/3/2022\n",
    "++++++++++++++\n",
    "Item 1: Bananas \n",
    "Item 2: Apples \n",
    "Item 3: Oranges \n",
    "Item 4: Bread\n",
    "Item 5: Milk\n",
    "++++++++++++++\n",
    "Number of Items: 6\n",
    "++++ DONE ++++\n",
    "```\n"
   ]
  },
  {
   "cell_type": "code",
   "execution_count": 203,
   "metadata": {
    "ExecuteTime": {
     "end_time": "2024-09-20T18:49:04.502333Z",
     "start_time": "2024-09-20T18:48:59.245676Z"
    }
   },
   "outputs": [
    {
     "name": "stdout",
     "output_type": "stream",
     "text": []
    },
    {
     "data": {
      "text/plain": "15"
     },
     "execution_count": 203,
     "metadata": {},
     "output_type": "execute_result"
    }
   ],
   "source": [
    "from datetime import date\n",
    "file = open(\"ShoppingList.txt\",\"w\")\n",
    "name = input(\"What is your name?\")\n",
    "Date = date.today()\n",
    "shopping_list = input(\"Enter shopping items seperated by a comma without spaces.\")\n",
    "list1 = shopping_list.split(\",\")\n",
    "file.write(\"Name: \" + name + \"\\n\")\n",
    "file.write(\"Date: \" + str(Date) + \"\\n\")\n",
    "file.write(\"++++++++++++++\\n\")\n",
    "for i in range (0,len(list1)):\n",
    "    print(list1[i])\n",
    "    file.write(\"Item \" + str(i+1) + \": \" + list1[i] + \"\\n\")\n",
    "file.write(\"++++++++++++++\\n\")\n",
    "file.write(\"Number of Items: \" + str(len(list1)) + \"\\n\")\n",
    "file.write(\"++++ DONE ++++\\n\")"
   ]
  },
  {
   "cell_type": "markdown",
   "metadata": {},
   "source": [
    "## QUESTION 4 (20 Points): \n",
    "\n",
    "Using the shopping list file ```Shopping.txt``` in Question 3.\n",
    "\n",
    "* Open the file using Python\n",
    "* Ask user the quantity of the items they want\n",
    "* Update the file and save it as ```Shopping_Updated.txt```\n",
    "* Please see the example below\n",
    "\n",
    "```python\n",
    "# Assume user entered 'Bananas, Apples, Oranges, Bread, Milk'\n",
    "# file name \"Shopping.txt\"\n",
    "Name: John Doe\n",
    "Date: 9/3/2022\n",
    "++++++++++++++\n",
    "Item 1: Bananas (3 lb)\n",
    "Item 2: Apples (4 lb)\n",
    "Item 3: Oranges (4 lb)\n",
    "Item 4: Bread (2 loaf)\n",
    "Item 5: Milk (1 gallon)\n",
    "++++++++++++++\n",
    "Number of Items: 6\n",
    "++++ DONE ++++\n",
    "```"
   ]
  },
  {
   "cell_type": "code",
   "execution_count": 204,
   "metadata": {
    "ExecuteTime": {
     "end_time": "2024-09-20T18:49:05.590123Z",
     "start_time": "2024-09-20T18:49:04.503332Z"
    }
   },
   "outputs": [
    {
     "ename": "TypeError",
     "evalue": "'_io.TextIOWrapper' object is not subscriptable",
     "output_type": "error",
     "traceback": [
      "\u001B[1;31m---------------------------------------------------------------------------\u001B[0m",
      "\u001B[1;31mTypeError\u001B[0m                                 Traceback (most recent call last)",
      "Cell \u001B[1;32mIn[204], line 5\u001B[0m\n\u001B[0;32m      3\u001B[0m     \u001B[38;5;28;01mif\u001B[39;00m \u001B[38;5;124m\"\u001B[39m\u001B[38;5;124mItem\u001B[39m\u001B[38;5;124m\"\u001B[39m \u001B[38;5;129;01min\u001B[39;00m line \u001B[38;5;129;01mand\u001B[39;00m \u001B[38;5;124m\"\u001B[39m\u001B[38;5;124mNumber\u001B[39m\u001B[38;5;124m\"\u001B[39m \u001B[38;5;129;01mnot\u001B[39;00m \u001B[38;5;129;01min\u001B[39;00m line:\n\u001B[0;32m      4\u001B[0m         amount \u001B[38;5;241m=\u001B[39m \u001B[38;5;28minput\u001B[39m(\u001B[38;5;124m\"\u001B[39m\u001B[38;5;124mHow much do you want of \u001B[39m\u001B[38;5;124m\"\u001B[39m \u001B[38;5;241m+\u001B[39m line)\n\u001B[1;32m----> 5\u001B[0m         \u001B[43mfile\u001B[49m\u001B[43m[\u001B[49m\u001B[43mline\u001B[49m\u001B[43m]\u001B[49m \u001B[38;5;241m+\u001B[39m\u001B[38;5;241m=\u001B[39m \u001B[38;5;124m\"\u001B[39m\u001B[38;5;124m(\u001B[39m\u001B[38;5;124m\"\u001B[39m \u001B[38;5;241m+\u001B[39m amount \u001B[38;5;241m+\u001B[39m \u001B[38;5;124m\"\u001B[39m\u001B[38;5;124m)\u001B[39m\u001B[38;5;124m\"\u001B[39m\n\u001B[0;32m      6\u001B[0m \u001B[38;5;66;03m#TODO\u001B[39;00m\n",
      "\u001B[1;31mTypeError\u001B[0m: '_io.TextIOWrapper' object is not subscriptable"
     ]
    }
   ],
   "source": [
    "file = open(\"ShoppingList.txt\",\"r\")\n",
    "for line in file:\n",
    "    if \"Item\" in line and \"Number\" not in line:\n",
    "        amount = input(\"How much do you want of \" + line)\n",
    "        file[line] += \"(\" + amount + \")\"\n",
    "#TODO"
   ]
  },
  {
   "cell_type": "markdown",
   "metadata": {},
   "source": [
    "## QUESTION 5 (40 Points): \n",
    "\n",
    "Create a student grade calculator and store all entered values in ```Grades.txt``` \n",
    "\n",
    "* Ask user his/her name\n",
    "* Ask user student number\n",
    "* Ask user to enter HW grades (separated by commas) \n",
    "* Ask user to enter Lab grades (separated by commas)\n",
    "* Ask user to enter Midterm Exam grade\n",
    "* Ask user to enter Final Exam grade\n",
    "* Ask user to enter Final Project grade\n",
    "* Using the grade distribution below calculate student's numerical grade\n",
    "* Using university letter grade, calculate the letter grade\n",
    "* Ask if there is anymore students (do this until termination letter is entered) \n",
    "* Please see the example below\n",
    "> Use following grade distribution\n",
    "> * HW: 20 (use average of all HW)\n",
    "> * Labs: 30 (use average of all Labs)\n",
    "> * Midterm Exam: 20 \n",
    "> * Final Exam: 20 \n",
    "> * Final Project: 10 \n",
    "\n",
    "```python\n",
    "# Assume there are two students \n",
    "# file name \"Grades.txt\"\n",
    "# Overall grade is not correct value. \n",
    "Name: John Doe\n",
    "Number: 1234\n",
    "HW: 12,14,23,78,99,100\n",
    "Labs: 12,14,23,78,99,100\n",
    "Midterm Exam: 88\n",
    "Final Exam: 72\n",
    "Final Project: 88\n",
    "Overall Grade: 72\n",
    "Overall Letter Grade: C\n",
    "\n",
    "    \n",
    "Name: Jen Scott\n",
    "Number: 3344\n",
    "HW: 12,14,23,78,99,100\n",
    "Labs: 12,14,23,78,99,100\n",
    "Midterm Exam: 88\n",
    "Final Exam: 72\n",
    "Final Project: 88\n",
    "Overall Grade: 82\n",
    "Overall Letter Grade: B\n",
    "```"
   ]
  },
  {
   "cell_type": "code",
   "execution_count": 207,
   "metadata": {
    "ExecuteTime": {
     "end_time": "2024-09-20T18:51:18.770856Z",
     "start_time": "2024-09-20T18:51:13.496852Z"
    }
   },
   "outputs": [
    {
     "ename": "ValueError",
     "evalue": "invalid literal for int() with base 10: ''",
     "output_type": "error",
     "traceback": [
      "\u001B[1;31m---------------------------------------------------------------------------\u001B[0m",
      "\u001B[1;31mValueError\u001B[0m                                Traceback (most recent call last)",
      "Cell \u001B[1;32mIn[207], line 14\u001B[0m\n\u001B[0;32m     12\u001B[0m homework_grade \u001B[38;5;241m=\u001B[39m \u001B[38;5;241m0\u001B[39m\n\u001B[0;32m     13\u001B[0m \u001B[38;5;28;01mfor\u001B[39;00m homework \u001B[38;5;129;01min\u001B[39;00m homework_list:\n\u001B[1;32m---> 14\u001B[0m     homework_grade \u001B[38;5;241m+\u001B[39m\u001B[38;5;241m=\u001B[39m \u001B[38;5;28;43mint\u001B[39;49m\u001B[43m(\u001B[49m\u001B[43mhomework\u001B[49m\u001B[43m)\u001B[49m\n\u001B[0;32m     16\u001B[0m homework_grade \u001B[38;5;241m=\u001B[39m \u001B[38;5;241m.20\u001B[39m \u001B[38;5;241m*\u001B[39m (homework_grade\u001B[38;5;241m/\u001B[39m\u001B[38;5;28mlen\u001B[39m(homework_list))\n\u001B[0;32m     17\u001B[0m \u001B[38;5;28mprint\u001B[39m(homework_grade)\n",
      "\u001B[1;31mValueError\u001B[0m: invalid literal for int() with base 10: ''"
     ]
    }
   ],
   "source": [
    "more_students = True\n",
    "while(more_students):\n",
    "    grades = open(\"Grades.txt\",\"a\")\n",
    "    name = input(\"What is your name?\")\n",
    "    grades.write(\"Name: \" + name + \"\\n\")\n",
    "    number = input(\"What is your number?\")\n",
    "    grades.write(\"Number: \" + number + \"\\n\")\n",
    "    \n",
    "    homework = input(\"Enter homework grades seperated by a comma without spaces.\")\n",
    "    grades.write(\"HW: \" + homework + \"\\n\")\n",
    "    homework_list = homework.split(\",\")\n",
    "    homework_grade = 0\n",
    "    for homework in homework_list:\n",
    "        homework_grade += int(homework)\n",
    "    \n",
    "    homework_grade = .20 * (homework_grade/len(homework_list))\n",
    "    print(homework_grade)\n",
    "    \n",
    "    labs = input(\"Enter lab grades seperated by a comma without spaces.\")\n",
    "    grades.write(\"Labs: \" + labs + \"\\n\")\n",
    "    labs_list = labs.split(\",\")\n",
    "    \n",
    "    lab_grade = 0\n",
    "    for lab in labs_list:\n",
    "        lab_grade += int(lab)\n",
    "    \n",
    "    lab_grade = .30 * (lab_grade/len(labs_list))\n",
    "    print(lab_grade)\n",
    "    \n",
    "    \n",
    "    midterm_exam = input(\"Enter midterm exam grade\")\n",
    "    grades.write(\"Midterm Exam: \" + midterm_exam + \"\\n\")\n",
    "    midterm_exam = float(midterm_exam) * .20\n",
    "    print(midterm_exam)\n",
    "    \n",
    "    final_exam = input(\"Enter final exam grade\")\n",
    "    grades.write(\"Final Exam: \" + final_exam + \"\\n\")\n",
    "    final_exam = float(final_exam) * .20\n",
    "    print(final_exam)\n",
    "    \n",
    "    final_project = input(\"Enter final project grade\")\n",
    "    grades.write(\"Final Project: \" + final_project + \"\\n\")\n",
    "    final_project = float(final_project) * .10\n",
    "    print(final_project)\n",
    "    \n",
    "    total_grade = round(final_exam + final_project + midterm_exam + homework_grade + lab_grade)\n",
    "    grades.write(\"Overall Grade: \" + str(total_grade) + \"\\n\")\n",
    "    \n",
    "    letter_grade = \"\"\n",
    "    if total_grade >=89:\n",
    "        letter_grade = \"A\"\n",
    "    elif total_grade >=79:\n",
    "        letter_grade = \"B\"\n",
    "    elif total_grade >=69:\n",
    "        letter_grade = \"C\"\n",
    "    elif total_grade >=59:\n",
    "        letter_grade = \"D\"\n",
    "    else:\n",
    "        letter_grade = \"F\"\n",
    "    grades.write(\"Overall Letter Grade: \" + letter_grade + \"\\n\")\n",
    "    \n",
    "    another_student = input(\"Is there another student?(y/n)\")\n",
    "    if another_student == \"n\":\n",
    "        more_students = False"
   ]
  },
  {
   "cell_type": "code",
   "execution_count": null,
   "metadata": {
    "ExecuteTime": {
     "end_time": "2024-09-20T18:49:05.593151Z",
     "start_time": "2024-09-20T18:49:05.592155Z"
    }
   },
   "outputs": [],
   "source": []
  }
 ],
 "metadata": {
  "kernelspec": {
   "display_name": "Python 3",
   "language": "python",
   "name": "python3"
  },
  "language_info": {
   "codemirror_mode": {
    "name": "ipython",
    "version": 3
   },
   "file_extension": ".py",
   "mimetype": "text/x-python",
   "name": "python",
   "nbconvert_exporter": "python",
   "pygments_lexer": "ipython3",
   "version": "3.9.4"
  },
  "latex_envs": {
   "LaTeX_envs_menu_present": true,
   "autoclose": false,
   "autocomplete": true,
   "bibliofile": "biblio.bib",
   "cite_by": "apalike",
   "current_citInitial": 1,
   "eqLabelWithNumbers": true,
   "eqNumInitial": 1,
   "hotkeys": {
    "equation": "Ctrl-E",
    "itemize": "Ctrl-I"
   },
   "labels_anchors": false,
   "latex_user_defs": false,
   "report_style_numbering": false,
   "user_envs_cfg": false
  },
  "nteract": {
   "version": "0.28.0"
  },
  "toc": {
   "base_numbering": 1,
   "nav_menu": {},
   "number_sections": false,
   "sideBar": true,
   "skip_h1_title": false,
   "title_cell": "Table of Contents",
   "title_sidebar": "Contents",
   "toc_cell": false,
   "toc_position": {},
   "toc_section_display": true,
   "toc_window_display": true
  }
 },
 "nbformat": 4,
 "nbformat_minor": 4
}
