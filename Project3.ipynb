{
 "cells": [
  {
   "cell_type": "markdown",
   "metadata": {},
   "source": [
    "# PROJECT 3\n",
    "\n",
    "## QUESTION 1 (15 Points): \n",
    "\n",
    "1. Write a Python program that takes two lists (A,B) and creates a dictionary ```C```. The List ```A```  elements will be keys and the list ```B``` elements will be values. \n",
    "\n",
    "```python\n",
    "# Example\n",
    "### input ###\n",
    "Name=['Beth','Dan','Kathy',\"JohnDoe\"] # This is A\n",
    "Exam=[[10,90],[70,60],[50,40],[0,0]]  # This is B\n",
    "### output ###\n",
    "C = {'Beth': [10, 90], 'Dan': [70, 60], 'Kathy': [50, 40], 'JohnDoe': [0, 0]} # Dictionary C\n",
    "```\n",
    "\n",
    "2. Write a Python program that takes four lists (A,B,C,D) and creates a dictionary ```Z```. The List ```A```  elements will be keys and the list ```B```, ```C```, and ```D``` elements will be values. \n",
    "\n",
    "```python\n",
    "# Example\n",
    "### input ###\n",
    "Name=['John','Albert',\"Layla\"] # This is A\n",
    "Exam=[[121,110],[424,515],[620,701]] # This is B\n",
    "HW=[[12,10],[44,55],[60,70]] # This is C\n",
    "Projects=[[2,1],[4,5],[6,7]] # This is D\n",
    "### output ###\n",
    "\n",
    "Z = {'John': [[121, 12, 2], [110, 10, 1]], 'Albert': [[424, 44, 4], [515, 55, 5]], 'Layla': [[620, 60, 6], [701, 70, 7]]} # Dictionary Z\n",
    "```\n",
    "\n",
    "3. Write a Python program that takes a dictionary and creates two lists (A,B). The List ```A```  elements will be keys and the list ```B``` elements will be values. \n",
    "\n",
    "```python\n",
    "# Example\n",
    "### input ###\n",
    "{'Beth': [10, 90], 'Dan': [70, 60], 'Kathy': [50, 40], 'JohnDoe': [0, 0]} # Dictionary C\n",
    "### output ###\n",
    "Name=['Beth','Dan','Kathy',\"JohnDoe\"] # This is A\n",
    "Exam=[[10,90],[70,60],[50,40],[0,0]]  # This is B\n",
    "```"
   ]
  },
  {
   "cell_type": "code",
   "outputs": [
    {
     "name": "stdout",
     "output_type": "stream",
     "text": [
      "C = {'Beth': [10, 90], 'Dan': [70, 60], 'Kathy': [50, 40], 'JohnDoe': [0, 0]}\n"
     ]
    }
   ],
   "source": [
    "#1. \n",
    "Name=['Beth','Dan','Kathy',\"JohnDoe\"] \n",
    "Exam=[[10,90],[70,60],[50,40],[0,0]] \n",
    "dictionaryC = dict(zip(Name,Exam))\n",
    "print(\"C = \" + str(dictionaryC))"
   ],
   "metadata": {
    "collapsed": false,
    "ExecuteTime": {
     "end_time": "2024-09-20T15:51:05.424189400Z",
     "start_time": "2024-09-20T15:51:05.376243900Z"
    }
   },
   "execution_count": 83
  },
  {
   "cell_type": "code",
   "outputs": [
    {
     "name": "stdout",
     "output_type": "stream",
     "text": [
      "EEClass = {'John': [[121, 110], [12, 10], [2, 1]], 'Albert': [[424, 515], [44, 55], [4, 5]], 'Layla': [[620, 701], [60, 70], [6, 7]]}\n"
     ]
    }
   ],
   "source": [
    "#2.\n",
    "Name=['John','Albert',\"Layla\"] # This is A\n",
    "Exam=[[121,110],[424,515],[620,701]] # This is B\n",
    "HW=[[12,10],[44,55],[60,70]] # This is C\n",
    "Projects=[[2,1],[4,5],[6,7]] # This is D\n",
    "\n",
    "\n",
    "EEClass = {}\n",
    "for Name, Exam, HW, Projects in zip(Name, Exam, HW, Projects):\n",
    "    EEClass[Name] = [Exam, HW, Projects]\n",
    "\n",
    "print(\"EEClass =\", EEClass)\n",
    "#TODO"
   ],
   "metadata": {
    "collapsed": false,
    "ExecuteTime": {
     "end_time": "2024-09-20T15:51:05.427185700Z",
     "start_time": "2024-09-20T15:51:05.391231100Z"
    }
   },
   "execution_count": 84
  },
  {
   "cell_type": "code",
   "outputs": [
    {
     "name": "stdout",
     "output_type": "stream",
     "text": [
      "Name =  ['Beth', 'Dan', 'Kathy', 'JohnDoe']\n",
      "Exam =  [[10, 90], [70, 60], [50, 40], [0, 0]]\n"
     ]
    }
   ],
   "source": [
    "#3.\n",
    "C = {'Beth': [10, 90], 'Dan': [70, 60], 'Kathy': [50, 40], 'JohnDoe': [0, 0]}\n",
    "Name = list(C.keys())\n",
    "Exam = list(C.values())\n",
    "print(\"Name = \", Name)\n",
    "print(\"Exam = \", Exam)"
   ],
   "metadata": {
    "collapsed": false,
    "ExecuteTime": {
     "end_time": "2024-09-20T15:51:05.483616200Z",
     "start_time": "2024-09-20T15:51:05.432180600Z"
    }
   },
   "execution_count": 85
  },
  {
   "cell_type": "markdown",
   "metadata": {},
   "source": [
    "## QUESTION 2 (15 Points): \n",
    "\n",
    "1. Write a Python program that takes three lists (names, Exam1, and Exam2) and creates a dictionary ```EEClass```. The List ```names```  elements will be keys and the list ```Exam1``` and ```Exam2``` elements will be values. Please follow the Example \n",
    "\n",
    "```python\n",
    "# Example\n",
    "### input ###\n",
    "names=['Beth','Dan','Kathy','Mark','Mary','Susie']\n",
    "Exam1=[10,90,70,60,50,40]\n",
    "Exam2=[90,80,90,30,90,70]\n",
    "### output ###\n",
    "EEClass={'Beth': [10, 90],'Dan': [90, 80], 'Kathy': [70, 90], 'Mark': [60, 30], 'Mary': [50, 90], 'Susie': [40, 70]}\n",
    "```\n",
    "\n",
    "2. Write a Python program that takes the ```EEClass``` dictionary in Question 2.1 and updates Exam1 grades for everyone 10 extra points. \n",
    "\n",
    "```python\n",
    "# Example\n",
    "### input ###\n",
    "{'Beth': [10, 90],'Dan': [90, 80], 'Kathy': [70, 90], 'Mark': [60, 30], 'Mary': [50, 90], 'Susie': [40, 70]}\n",
    "### output ###\n",
    "\n",
    "{'Beth': [20, 90],'Dan': [100, 80], 'Kathy': [80, 90], 'Mark': [70, 30], 'Mary': [60, 90], 'Susie': [50, 70]} # Dictionary Z\n",
    "```\n",
    "\n",
    "3. Write a Python program that takes the  ```EEClass``` dictionary in Question 2.1 and calculates Exam Average and updates the dictionary as shwon below.\n",
    "\n",
    "```python\n",
    "# Example\n",
    "### input ###\n",
    "{'Beth': [10, 90],'Dan': [90, 80], 'Kathy': [70, 90], 'Mark': [60, 30], 'Mary': [50, 90], 'Susie': [40, 70]}\n",
    "### output ###\n",
    "\n",
    "{'Beth': [10, 90, 50],'Dan': [90, 80, 85], 'Kathy': [70, 90, 80], 'Mark': [60, 30, 45], 'Mary': [50, 90, 70], 'Susie': [40, 70, 55]} # Dictionary Z\n",
    "```"
   ]
  },
  {
   "cell_type": "code",
   "outputs": [
    {
     "name": "stdout",
     "output_type": "stream",
     "text": [
      "EEClass = {'Beth': [10, 90], 'Dan': [90, 80], 'Kathy': [70, 90], 'Mark': [60, 30], 'Mary': [50, 90], 'Susie': [40, 70]}\n"
     ]
    }
   ],
   "source": [
    "#1.\n",
    "names = ['Beth', 'Dan', 'Kathy', 'Mark', 'Mary', 'Susie']\n",
    "Exam1 = [10, 90, 70, 60, 50, 40]\n",
    "Exam2 = [90, 80, 90, 30, 90, 70]\n",
    "\n",
    "EEClass = {}\n",
    "for name, exam1, exam2 in zip(names, Exam1, Exam2):\n",
    "    EEClass[name] = [exam1, exam2]\n",
    "\n",
    "print(\"EEClass =\", EEClass)\n"
   ],
   "metadata": {
    "collapsed": false,
    "ExecuteTime": {
     "end_time": "2024-09-20T15:51:05.533179700Z",
     "start_time": "2024-09-20T15:51:05.487613600Z"
    }
   },
   "execution_count": 86
  },
  {
   "cell_type": "code",
   "outputs": [
    {
     "name": "stdout",
     "output_type": "stream",
     "text": [
      "EEClass = {'Beth': [20, 90], 'Dan': [100, 80], 'Kathy': [80, 90], 'Mark': [70, 30], 'Mary': [60, 90], 'Susie': [50, 70]}\n"
     ]
    }
   ],
   "source": [
    "#2.\n",
    "for key in EEClass:\n",
    "    EEClass[key][0] += 10\n",
    "print(\"EEClass =\", EEClass)"
   ],
   "metadata": {
    "collapsed": false,
    "ExecuteTime": {
     "end_time": "2024-09-20T15:51:05.598683Z",
     "start_time": "2024-09-20T15:51:05.536526800Z"
    }
   },
   "execution_count": 87
  },
  {
   "cell_type": "code",
   "outputs": [
    {
     "name": "stdout",
     "output_type": "stream",
     "text": [
      "EEClass = {'Beth': [10, 90, 50], 'Dan': [90, 80, 85], 'Kathy': [70, 90, 80], 'Mark': [60, 30, 45], 'Mary': [50, 90, 70], 'Susie': [40, 70, 55]}\n"
     ]
    }
   ],
   "source": [
    "#3.\n",
    "names = ['Beth', 'Dan', 'Kathy', 'Mark', 'Mary', 'Susie']\n",
    "Exam1 = [10, 90, 70, 60, 50, 40]\n",
    "Exam2 = [90, 80, 90, 30, 90, 70]\n",
    "\n",
    "EEClass = {}\n",
    "for name, exam1, exam2 in zip(names, Exam1, Exam2):\n",
    "    EEClass[name] = [exam1, exam2]\n",
    "    \n",
    "for key in EEClass:\n",
    "    average = (EEClass[key][0] + EEClass[key][1]) / 2 \n",
    "    EEClass[key].append(round(average))\n",
    "print(\"EEClass =\", EEClass)"
   ],
   "metadata": {
    "collapsed": false,
    "ExecuteTime": {
     "end_time": "2024-09-20T15:51:05.633647200Z",
     "start_time": "2024-09-20T15:51:05.583987600Z"
    }
   },
   "execution_count": 88
  },
  {
   "cell_type": "markdown",
   "metadata": {
    "tags": []
   },
   "source": [
    "## QUESTION 3 (10 Points): \n",
    "\n",
    "Create a shopping list file using python\n",
    "\n",
    "* Ask user his/her name\n",
    "* Ask shopping date (try to get this date from OS if you can)\n",
    "* Ask user the list of the items for shopping. User must enter all items at once separated by commas without spaces.\n",
    "* Please see the example below\n",
    "\n",
    "```python\n",
    "# Assume user entered 'Bananas, Apples, Oranges, Bread, Milk'\n",
    "# file name \"Shopping.txt\"\n",
    "Name: John Doe\n",
    "Date: 9/3/2022\n",
    "++++++++++++++\n",
    "Item 1: Bananas \n",
    "Item 2: Apples \n",
    "Item 3: Oranges \n",
    "Item 4: Bread\n",
    "Item 5: Milk\n",
    "++++++++++++++\n",
    "Number of Items: 6\n",
    "++++ DONE ++++\n",
    "```\n"
   ]
  },
  {
   "cell_type": "code",
   "execution_count": 88,
   "metadata": {
    "ExecuteTime": {
     "end_time": "2024-09-20T15:51:05.658601900Z",
     "start_time": "2024-09-20T15:51:05.637620200Z"
    }
   },
   "outputs": [],
   "source": []
  },
  {
   "cell_type": "markdown",
   "metadata": {},
   "source": [
    "## QUESTION 4 (20 Points): \n",
    "\n",
    "Using the shopping list file ```Shopping.txt``` in Question 3.\n",
    "\n",
    "* Open the file using Python\n",
    "* Ask user the quantity of the items they want\n",
    "* Update the file and save it as ```Shopping_Updated.txt```\n",
    "* Please see the example below\n",
    "\n",
    "```python\n",
    "# Assume user entered 'Bananas, Apples, Oranges, Bread, Milk'\n",
    "# file name \"Shopping.txt\"\n",
    "Name: John Doe\n",
    "Date: 9/3/2022\n",
    "++++++++++++++\n",
    "Item 1: Bananas (3 lb)\n",
    "Item 2: Apples (4 lb)\n",
    "Item 3: Oranges (4 lb)\n",
    "Item 4: Bread (2 loaf)\n",
    "Item 5: Milk (1 gallon)\n",
    "++++++++++++++\n",
    "Number of Items: 6\n",
    "++++ DONE ++++\n",
    "```"
   ]
  },
  {
   "cell_type": "code",
   "execution_count": 88,
   "metadata": {
    "ExecuteTime": {
     "end_time": "2024-09-20T15:51:05.690276800Z",
     "start_time": "2024-09-20T15:51:05.660304400Z"
    }
   },
   "outputs": [],
   "source": []
  },
  {
   "cell_type": "markdown",
   "metadata": {},
   "source": [
    "## QUESTION 5 (40 Points): \n",
    "\n",
    "Create a student grade calculator and store all entered values in ```Grades.txt``` \n",
    "\n",
    "* Ask user his/her name\n",
    "* Ask user student number\n",
    "* Ask user to enter HW grades (separated by commas) \n",
    "* Ask user to enter Lab grades (separated by commas)\n",
    "* Ask user to enter Midterm Exam grade\n",
    "* Ask user to enter Final Exam grade\n",
    "* Ask user to enter Final Project grade\n",
    "* Using the grade distribution below calculate student's numerical grade\n",
    "* Using university letter grade, calculate the letter grade\n",
    "* Ask if there is anymore students (do this until termination letter is entered) \n",
    "* Please see the example below\n",
    "> Use following grade distribution\n",
    "> * HW: 20 (use average of all HW)\n",
    "> * Labs: 30 (use average of all Labs)\n",
    "> * Midterm Exam: 20 \n",
    "> * Final Exam: 20 \n",
    "> * Final Project: 10 \n",
    "\n",
    "```python\n",
    "# Assume there are two students \n",
    "# file name \"Grades.txt\"\n",
    "# Overall grade is not correct value. \n",
    "Name: John Doe\n",
    "Number: 1234\n",
    "HW: 12,14,23,78,99,100\n",
    "Labs: 12,14,23,78,99,100\n",
    "Midterm Exam: 88\n",
    "Final Exam: 72\n",
    "Final Project: 88\n",
    "Overall Grade: 72\n",
    "Overall Letter Grade: C\n",
    "\n",
    "    \n",
    "Name: Jen Scott\n",
    "Number: 3344\n",
    "HW: 12,14,23,78,99,100\n",
    "Labs: 12,14,23,78,99,100\n",
    "Midterm Exam: 88\n",
    "Final Exam: 72\n",
    "Final Project: 88\n",
    "Overall Grade: 82\n",
    "Overall Letter Grade: B\n",
    "```"
   ]
  },
  {
   "cell_type": "code",
   "execution_count": 88,
   "metadata": {
    "ExecuteTime": {
     "end_time": "2024-09-20T15:51:05.709700300Z",
     "start_time": "2024-09-20T15:51:05.692715300Z"
    }
   },
   "outputs": [],
   "source": []
  },
  {
   "cell_type": "code",
   "execution_count": 88,
   "metadata": {
    "ExecuteTime": {
     "end_time": "2024-09-20T15:51:05.725005900Z",
     "start_time": "2024-09-20T15:51:05.712017Z"
    }
   },
   "outputs": [],
   "source": []
  }
 ],
 "metadata": {
  "kernelspec": {
   "display_name": "Python 3",
   "language": "python",
   "name": "python3"
  },
  "language_info": {
   "codemirror_mode": {
    "name": "ipython",
    "version": 3
   },
   "file_extension": ".py",
   "mimetype": "text/x-python",
   "name": "python",
   "nbconvert_exporter": "python",
   "pygments_lexer": "ipython3",
   "version": "3.9.4"
  },
  "latex_envs": {
   "LaTeX_envs_menu_present": true,
   "autoclose": false,
   "autocomplete": true,
   "bibliofile": "biblio.bib",
   "cite_by": "apalike",
   "current_citInitial": 1,
   "eqLabelWithNumbers": true,
   "eqNumInitial": 1,
   "hotkeys": {
    "equation": "Ctrl-E",
    "itemize": "Ctrl-I"
   },
   "labels_anchors": false,
   "latex_user_defs": false,
   "report_style_numbering": false,
   "user_envs_cfg": false
  },
  "nteract": {
   "version": "0.28.0"
  },
  "toc": {
   "base_numbering": 1,
   "nav_menu": {},
   "number_sections": false,
   "sideBar": true,
   "skip_h1_title": false,
   "title_cell": "Table of Contents",
   "title_sidebar": "Contents",
   "toc_cell": false,
   "toc_position": {},
   "toc_section_display": true,
   "toc_window_display": true
  }
 },
 "nbformat": 4,
 "nbformat_minor": 4
}
