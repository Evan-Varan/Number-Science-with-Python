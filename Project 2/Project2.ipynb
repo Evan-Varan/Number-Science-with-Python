{
 "cells": [
  {
   "cell_type": "markdown",
   "metadata": {},
   "source": [
    "# PROJECT 2 \n",
    "\n",
    "## QUESTION 1: \n",
    "\n",
    "1. Write a Python program to convert temperatures to and from celsius, fahrenheit\n",
    "2. Write 1 as a function (F2C and C2F)"
   ]
  },
  {
   "cell_type": "code",
   "execution_count": 321,
   "metadata": {
    "tags": [],
    "ExecuteTime": {
     "end_time": "2024-09-10T22:09:26.567786500Z",
     "start_time": "2024-09-10T22:09:26.459100300Z"
    }
   },
   "outputs": [
    {
     "name": "stdout",
     "output_type": "stream",
     "text": [
      "100 degrees Fahrenheit is 37.78 degrees celsius\n",
      "100 degress Celsius is 212.0 degrees fahrenheit\n"
     ]
    }
   ],
   "source": [
    "#Question_1\n",
    "# T(°F) = T(°C) × 9/5 + 32\n",
    "#T(°C) = (T(°F) -32) x 5/9\n",
    "def fahrenheitToCelsius(f):\n",
    "    c = (5/9) * (f-32)\n",
    "    return round(c,2)\n",
    "def celsiusToFahrenheit(c):\n",
    "    f = c * (9/5) + 32\n",
    "    return round(f,2)\n",
    "\n",
    "print(\"100 degrees Fahrenheit is \" + str(fahrenheitToCelsius(100)) + \" degrees celsius\")\n",
    "print(\"100 degress Celsius is \" + str(celsiusToFahrenheit(100)) + \" degrees fahrenheit\")"
   ]
  },
  {
   "cell_type": "markdown",
   "metadata": {},
   "source": [
    "## QUESTION 2:  \n",
    "\n",
    "1. Write a Python program to find those numbers which are divisible by 3 and multiple of 5, between 1000 and 3000 (both included).\n",
    "2. Modify the example above \n",
    "    - Ask user input a number\n",
    "    - Check if that number is divisible by 3 and multiple of 5\n",
    "3. Write a function that checks any number and divisibility of two numbers.\n",
    "    - def check_div(Number,DivI,DivII) \n",
    "    - Return will be a message display\n",
    "4. Write a function that checks any number and divisibility of any numbers.\n",
    "    - def check_div(Number,*Div) \n",
    "    - Return will be a message display"
   ]
  },
  {
   "cell_type": "code",
   "execution_count": 322,
   "metadata": {
    "ExecuteTime": {
     "end_time": "2024-09-10T22:09:29.851350700Z",
     "start_time": "2024-09-10T22:09:26.570789700Z"
    }
   },
   "outputs": [],
   "source": [
    "#Question_2\n",
    "#2.\n",
    "userInput = int(input(\"Enter a number\"))\n",
    "divisible = False\n",
    "if userInput % 3 == 0 and userInput % 5 == 0:\n",
    "    divisible = True"
   ]
  },
  {
   "cell_type": "code",
   "outputs": [
    {
     "name": "stdout",
     "output_type": "stream",
     "text": [
      "300 is divisible by 2 and 3: True\n"
     ]
    }
   ],
   "source": [
    "#3.\n",
    "def check_div(Number,DivI,DivII):\n",
    "    isDivisible = False\n",
    "    if Number % DivI == 0 and Number % DivII == 0:\n",
    "        isDivisible = True\n",
    "    print(str(Number) + \" is divisible by \" + str(DivI) + \" and \" + str(DivII) + \": \" + str(isDivisible))\n",
    "        \n",
    "check_div(300, 2, 3)"
   ],
   "metadata": {
    "collapsed": false,
    "ExecuteTime": {
     "end_time": "2024-09-10T22:09:29.852350900Z",
     "start_time": "2024-09-10T22:09:29.796481100Z"
    }
   },
   "execution_count": 323
  },
  {
   "cell_type": "code",
   "outputs": [
    {
     "name": "stdout",
     "output_type": "stream",
     "text": [
      "300 is divisible by 2\n",
      "300 is divisible by 3\n",
      "300 is divisible by 4\n",
      "300 is divisible by 5\n",
      "300 is divisible by 6\n",
      "300 is not divisible by 7\n",
      "300 is not divisible by 8\n",
      "300 is not divisible by 9\n"
     ]
    }
   ],
   "source": [
    "#4\n",
    "def check_div(Number,*Div):\n",
    "    for dividen in Div:\n",
    "        if Number % dividen == 0:\n",
    "             print(str(Number) + \" is divisible by \" + str(dividen))\n",
    "        if Number % dividen != 0:\n",
    "             print(str(Number) + \" is not divisible by \" + str(dividen))\n",
    "\n",
    "check_div(300, 2, 3, 4, 5, 6, 7 ,8 ,9)"
   ],
   "metadata": {
    "collapsed": false,
    "ExecuteTime": {
     "end_time": "2024-09-10T22:09:29.875099600Z",
     "start_time": "2024-09-10T22:09:29.854346900Z"
    }
   },
   "execution_count": 324
  },
  {
   "cell_type": "markdown",
   "metadata": {},
   "source": [
    "## QUESTION 3:  \n",
    "\n",
    "Write a Python program to guess a number between 1 to 9. \n",
    "\n",
    "- Create a number to guess\n",
    "    - static\n",
    "    - random\n",
    "- Ask user enter a number\n",
    "- Check if that is a number correct\n",
    " - If it is not ask another number\n",
    " - If it is correct display the number and number of guess"
   ]
  },
  {
   "cell_type": "code",
   "execution_count": 325,
   "metadata": {
    "ExecuteTime": {
     "end_time": "2024-09-10T22:09:35.185466700Z",
     "start_time": "2024-09-10T22:09:29.876098900Z"
    }
   },
   "outputs": [
    {
     "name": "stdout",
     "output_type": "stream",
     "text": [
      "You got it, the number was 4!\n"
     ]
    }
   ],
   "source": [
    "#Question_3\n",
    "guessNumber = 4\n",
    "userInput = int(input(\"Enter a number to guess between 1 and 9\"))\n",
    "while guessNumber != userInput:\n",
    "    userInput = int(input(\"Wrong number, please try again.\"))\n",
    "print(\"You got it, the number was \" + str(guessNumber) + \"!\")"
   ]
  },
  {
   "cell_type": "code",
   "outputs": [
    {
     "name": "stdout",
     "output_type": "stream",
     "text": [
      "You got it, the number was 4, with 10 guesses made!\n"
     ]
    }
   ],
   "source": [
    "import random\n",
    "numGuesses = 0\n",
    "guessNumber = random.randrange(1,9,1)\n",
    "userInput = int(input(\"Enter a number to guess between 1 and 9\"))\n",
    "numGuesses += 1\n",
    "while guessNumber != userInput:\n",
    "    userInput = int(input(\"Wrong number, please try again.\"))\n",
    "    numGuesses += 1\n",
    "print(\"You got it, the number was \" + str(guessNumber) + \", with \" + str(numGuesses) + \" guesses made!\")"
   ],
   "metadata": {
    "collapsed": false,
    "ExecuteTime": {
     "end_time": "2024-09-10T22:09:46.612865300Z",
     "start_time": "2024-09-10T22:09:35.162357200Z"
    }
   },
   "execution_count": 326
  },
  {
   "cell_type": "markdown",
   "metadata": {},
   "source": [
    "## QUESTION 4:  \n",
    "\n",
    "Write a Python program to construct the following pattern, using a nested for loop.\n",
    "\n",
    "<img src=001.png alt=\"ex4\"\n",
    "\ttitle=\"A cute kitten\" width=\"100\" height=\"80\" />"
   ]
  },
  {
   "cell_type": "code",
   "execution_count": 327,
   "metadata": {
    "ExecuteTime": {
     "end_time": "2024-09-10T22:09:46.613883100Z",
     "start_time": "2024-09-10T22:09:46.596571700Z"
    }
   },
   "outputs": [
    {
     "name": "stdout",
     "output_type": "stream",
     "text": [
      "*\n",
      "**\n",
      "***\n",
      "****\n",
      "*****\n",
      "****\n",
      "***\n",
      "**\n",
      "*\n"
     ]
    }
   ],
   "source": [
    "#Question_4\n",
    "\n",
    "for i in range(0,5):\n",
    "    for k in range(i):\n",
    "        print(\"*\", end= \"\")\n",
    "    if i > 0:\n",
    "        print()\n",
    "for i in range(5,0,-1):\n",
    "    for k in range(i):\n",
    "        print(\"*\", end= \"\")\n",
    "    if i > 0:\n",
    "        print()"
   ]
  },
  {
   "cell_type": "markdown",
   "metadata": {},
   "source": [
    "## QUESTION 5:  \n",
    "\n",
    "1. Write a Python program that accepts a word from the user and reverse it. \n",
    "\n",
    "2. Write a Python program that accepts a list from the user and reverse it. \n",
    "\n",
    "3. Write a function ```Res_Ser(*R)``` that takes number of resistor values as input, and calculates the total.  \n",
    "\n",
    "4. Write a function ```Res_Par(*R)``` that takes number of resistor values as input, and calculates the total.  \n"
   ]
  },
  {
   "cell_type": "code",
   "execution_count": 328,
   "metadata": {
    "ExecuteTime": {
     "end_time": "2024-09-10T22:09:47.348048900Z",
     "start_time": "2024-09-10T22:09:46.606135100Z"
    }
   },
   "outputs": [
    {
     "name": "stdout",
     "output_type": "stream",
     "text": [
      "3\n"
     ]
    }
   ],
   "source": [
    "#Question_5\n",
    "user_input = input(\"Enter a word to reverse\")\n",
    "reversed_word = \"\"\n",
    "for i in range(len(user_input), 0 , -1):\n",
    "    reversed_word += user_input[i-1]\n",
    "print(reversed_word)"
   ]
  },
  {
   "cell_type": "code",
   "execution_count": 329,
   "metadata": {
    "ExecuteTime": {
     "end_time": "2024-09-10T22:09:48.150152800Z",
     "start_time": "2024-09-10T22:09:47.282934800Z"
    }
   },
   "outputs": [
    {
     "name": "stdout",
     "output_type": "stream",
     "text": [
      "['2']\n"
     ]
    }
   ],
   "source": [
    "#2\n",
    "user_input = input(\"Enter a list to reverse (use , to seperate elements)\")\n",
    "list_of_items = user_input.split(\",\")\n",
    "reversed_list_of_items = []\n",
    "for i in range(len(list_of_items), 0 , -1):\n",
    "    reversed_list_of_items.append(list_of_items[i-1])\n",
    "print(reversed_list_of_items)"
   ]
  },
  {
   "cell_type": "code",
   "outputs": [
    {
     "name": "stdout",
     "output_type": "stream",
     "text": [
      "The total resistance of these resistors in series is 11785 ohms.\n",
      "The total resistance of these resistors in parallel is 4.73 ohms.\n"
     ]
    }
   ],
   "source": [
    "#3\n",
    "def Res_Ser(*R):\n",
    "    totalResistanceSeries = 0\n",
    "    for resistor in R:\n",
    "        totalResistanceSeries += resistor\n",
    "    print(\"The total resistance of these resistors in series is \" + str(totalResistanceSeries) + \" ohms.\")\n",
    "Res_Ser(100,3000,5,7700,980)\n",
    "\n",
    "#4 \n",
    "def Res_Par(*R):\n",
    "    totalResistanceParallel = 0\n",
    "    for resistor in R:\n",
    "        totalResistanceParallel += (1/resistor)\n",
    "    totalResistanceParallel = 1/totalResistanceParallel\n",
    "    print(\"The total resistance of these resistors in parallel is \" + str(round(totalResistanceParallel,2)) + \" ohms.\")\n",
    "Res_Par(100,3000,5,7700,980)"
   ],
   "metadata": {
    "collapsed": false,
    "ExecuteTime": {
     "end_time": "2024-09-10T22:09:48.151166600Z",
     "start_time": "2024-09-10T22:09:48.089175300Z"
    }
   },
   "execution_count": 330
  },
  {
   "cell_type": "markdown",
   "metadata": {},
   "source": [
    "## QUESTION 6:  \n",
    "\n",
    "a. Write a Python program to count the number of even and odd numbers from a series of numbers.\n",
    "\n",
    "b. Write a Python program that finds x[2n] from x[n]."
   ]
  },
  {
   "cell_type": "code",
   "execution_count": 331,
   "metadata": {
    "ExecuteTime": {
     "end_time": "2024-09-10T22:09:48.152153400Z",
     "start_time": "2024-09-10T22:09:48.097203500Z"
    }
   },
   "outputs": [
    {
     "name": "stdout",
     "output_type": "stream",
     "text": [
      "In the series of numbers: [91, 36, 90, 16] there is 3 even numbers, and 1 odd numbers\n"
     ]
    }
   ],
   "source": [
    "#Question_6\n",
    "import random\n",
    "random_numbers = []\n",
    "even_count = 0\n",
    "odd_count = 0\n",
    "for i in range(0,random.randint(1,15)):\n",
    "    random_numbers.append(random.randint(1,100))\n",
    "for k in range(0,len(random_numbers)):\n",
    "    if int(random_numbers[k]) % 2 == 0:\n",
    "        even_count += 1\n",
    "    if int(random_numbers[k]) % 2 == 1:\n",
    "        odd_count += 1\n",
    "print(\"In the series of numbers: \" + str(random_numbers) +\" there is \" + str(even_count) + \" even numbers, and \" + str(odd_count) + \" odd numbers\")"
   ]
  },
  {
   "cell_type": "code",
   "outputs": [
    {
     "name": "stdout",
     "output_type": "stream",
     "text": [
      "X[n] is: [56, 74, 92, 6, 70]\n",
      "X[2n] is: [56, 92]\n"
     ]
    }
   ],
   "source": [
    "#b\n",
    "import random\n",
    "random_numbers = []\n",
    "x2n = []\n",
    "for i in range(0,random.randint(1,15)):\n",
    "    random_numbers.append(random.randint(1,100))\n",
    "for k in range(0,len(random_numbers) // 2): #floor divide (7 // 2 = 3)\n",
    "    x2n.append(random_numbers[2* k])\n",
    "\n",
    "print(\"X[n] is: \" + str(random_numbers))\n",
    "print(\"X[2n] is: \" + str(x2n))\n"
   ],
   "metadata": {
    "collapsed": false,
    "ExecuteTime": {
     "end_time": "2024-09-10T22:09:48.153152300Z",
     "start_time": "2024-09-10T22:09:48.106524300Z"
    }
   },
   "execution_count": 332
  },
  {
   "cell_type": "markdown",
   "metadata": {},
   "source": [
    "## QUESTION 7:  \n",
    "\n",
    "a. Write a Python program that prints all the numbers from 0 to 20 except 3, 9, and 15.\n",
    "\n",
    "b. Write a Python program that accepts N numbers and finds the average of it."
   ]
  },
  {
   "cell_type": "code",
   "execution_count": 333,
   "metadata": {
    "ExecuteTime": {
     "end_time": "2024-09-10T22:09:48.154148900Z",
     "start_time": "2024-09-10T22:09:48.118081Z"
    }
   },
   "outputs": [
    {
     "name": "stdout",
     "output_type": "stream",
     "text": [
      "0\n",
      "1\n",
      "2\n",
      "4\n",
      "5\n",
      "6\n",
      "7\n",
      "8\n",
      "10\n",
      "11\n",
      "12\n",
      "13\n",
      "14\n",
      "16\n",
      "17\n",
      "18\n",
      "19\n",
      "20\n"
     ]
    }
   ],
   "source": [
    "#Question_7\n",
    "for i in range(0,21):\n",
    "    if i != 3 and i != 9 and i != 15:\n",
    "        print(i)"
   ]
  },
  {
   "cell_type": "code",
   "outputs": [
    {
     "name": "stdout",
     "output_type": "stream",
     "text": [
      "5.29\n"
     ]
    }
   ],
   "source": [
    "#b\n",
    "def averageFinder(list):\n",
    "    total = 0\n",
    "    for v in range(len(list)):\n",
    "        total += list[v]\n",
    "    print(round(total/len(list),2))\n",
    "averageFinder([1,3,4,7,8,10,4])"
   ],
   "metadata": {
    "collapsed": false,
    "ExecuteTime": {
     "end_time": "2024-09-10T22:09:48.254145300Z",
     "start_time": "2024-09-10T22:09:48.130186600Z"
    }
   },
   "execution_count": 334
  },
  {
   "cell_type": "markdown",
   "metadata": {},
   "source": [
    "## QUESTION 8:  \n",
    "\n",
    "a. Write a Python program that takes N integer random numbers between [n1,n2] where n1 > n2. \n",
    "\n",
    "b. Using the function above check if a number between [n1,n2] is in this random numbers. "
   ]
  },
  {
   "cell_type": "code",
   "execution_count": 335,
   "metadata": {
    "ExecuteTime": {
     "end_time": "2024-09-10T22:09:48.256143600Z",
     "start_time": "2024-09-10T22:09:48.142736200Z"
    }
   },
   "outputs": [
    {
     "name": "stdout",
     "output_type": "stream",
     "text": [
      "Displaying 15 numbers between 5 and 20\n",
      "[12, 17, 9, 12, 19, 7, 6, 12, 11, 17, 10, 10, 15, 18, 18]\n",
      "14 is not in [12, 17, 9, 12, 19, 7, 6, 12, 11, 17, 10, 10, 15, 18, 18]\n"
     ]
    }
   ],
   "source": [
    "#Question_8\n",
    "def generateNumbers(n1,n2,N):\n",
    "    random_numbers = []\n",
    "    for i in range(0,N):\n",
    "        random_numbers.append(random.randrange(n2,n1))\n",
    "    print(\"Displaying \" + str(N) + \" numbers between \" + str(n2) + \" and \" + str(n1))\n",
    "    print(random_numbers)\n",
    "    checkIfNumberBetween(random_numbers,14) #part of part b.\n",
    "\n",
    "generateNumbers(20,5,15)\n",
    "\n",
    "#b.\n",
    "def checkIfNumberBetween(random_numbers,numberToCheck):\n",
    "    if numberToCheck in random_numbers:\n",
    "        print(str(numberToCheck) +\" is in \" + str(random_numbers))\n",
    "    else:\n",
    "        print(str(numberToCheck) +\" is not in \" + str(random_numbers))\n"
   ]
  },
  {
   "cell_type": "markdown",
   "metadata": {},
   "source": [
    "## QUESTION 9:  \n",
    "\n",
    "Write a Python program that takes a string and determines if there is [a,b,c] in that string and how many of them. "
   ]
  },
  {
   "cell_type": "code",
   "execution_count": 336,
   "metadata": {
    "ExecuteTime": {
     "end_time": "2024-09-10T22:09:48.274164600Z",
     "start_time": "2024-09-10T22:09:48.153152300Z"
    }
   },
   "outputs": [
    {
     "name": "stdout",
     "output_type": "stream",
     "text": [
      "Number of a's in the string is 3\n",
      "Number of b's in the string is 5\n",
      "Number of c's in the string is 4\n"
     ]
    }
   ],
   "source": [
    "#Question_9\n",
    "def stringCounter(string):\n",
    "    aCounter = 0\n",
    "    bCounter = 0\n",
    "    cCounter = 0\n",
    "    for char in string:\n",
    "        if char == 'a':\n",
    "            aCounter += 1\n",
    "        if char == 'b':\n",
    "            bCounter += 1\n",
    "        if char == 'c':\n",
    "            cCounter += 1\n",
    "    print(\"Number of a's in the string is \" + str(aCounter))\n",
    "    print(\"Number of b's in the string is \" + str(bCounter))\n",
    "    print(\"Number of c's in the string is \" + str(cCounter))\n",
    "stringCounter(\"aaaccccbbbbb\")"
   ]
  },
  {
   "cell_type": "markdown",
   "metadata": {},
   "source": [
    "## QUESTION 10:  \n",
    "\n",
    "Write :\n",
    "\n",
    "* an array __A__ with 10 random letters such as ```A=[\"a\",\"c\",....]```\n",
    "* an array __B__ with 5 random numbers such as ```B=[1,2,....]```\n",
    "* ask user password lenght (must be greater than 5 and less than 8)\n",
    "* create a random password using __A__ and __B__ lists. You need to use minumum of 2 numbers and/or 2 letters."
   ]
  },
  {
   "cell_type": "code",
   "execution_count": 337,
   "metadata": {
    "ExecuteTime": {
     "end_time": "2024-09-10T22:09:53.209537800Z",
     "start_time": "2024-09-10T22:09:48.166157900Z"
    }
   },
   "outputs": [
    {
     "name": "stdout",
     "output_type": "stream",
     "text": [
      "['d', 'w', 'y', 'c', 'b', 'q', 'j', 'b', 'b', 'u']\n",
      "[7, 86, 55, 28, 82]\n",
      "d7w86y55\n"
     ]
    }
   ],
   "source": [
    "# #Question_10\n",
    "import random\n",
    "import string\n",
    "\n",
    "random_numbers = []\n",
    "random_letters =[]\n",
    "user_password= \"\" \n",
    "for k in range(0,10):\n",
    "    random_letters.append(random.choice(string.ascii_lowercase))\n",
    "for i in range(0,5):\n",
    "    random_numbers.append(random.randint(1,100))\n",
    "print(random_letters)\n",
    "print(random_numbers)\n",
    "\n",
    "user_input = input(\"Enter length of password (must be greater than 5 and less than 8) \")\n",
    "while int(user_input) < 5 or int(user_input) > 7:\n",
    "    user_input = input(\"Not Valid, Enter length of password (must be greater than 5 and less than 8) \")\n",
    "\n",
    "index = 0\n",
    "for j in range(int(user_input)):\n",
    "    if j % 2 == 0: #even\n",
    "        user_password += random_letters[index]\n",
    "    else: #odd\n",
    "        user_password += str(random_numbers[index])\n",
    "        index += 1\n",
    "print(user_password)"
   ]
  }
 ],
 "metadata": {
  "kernelspec": {
   "display_name": "Python 3 (ipykernel)",
   "language": "python",
   "name": "python3"
  },
  "language_info": {
   "codemirror_mode": {
    "name": "ipython",
    "version": 3
   },
   "file_extension": ".py",
   "mimetype": "text/x-python",
   "name": "python",
   "nbconvert_exporter": "python",
   "pygments_lexer": "ipython3",
   "version": "3.9.7"
  },
  "latex_envs": {
   "LaTeX_envs_menu_present": true,
   "autoclose": false,
   "autocomplete": true,
   "bibliofile": "biblio.bib",
   "cite_by": "apalike",
   "current_citInitial": 1,
   "eqLabelWithNumbers": true,
   "eqNumInitial": 1,
   "hotkeys": {
    "equation": "Ctrl-E",
    "itemize": "Ctrl-I"
   },
   "labels_anchors": false,
   "latex_user_defs": false,
   "report_style_numbering": false,
   "user_envs_cfg": false
  },
  "nteract": {
   "version": "0.28.0"
  },
  "toc": {
   "base_numbering": 1,
   "nav_menu": {},
   "number_sections": false,
   "sideBar": true,
   "skip_h1_title": false,
   "title_cell": "Table of Contents",
   "title_sidebar": "Contents",
   "toc_cell": false,
   "toc_position": {},
   "toc_section_display": true,
   "toc_window_display": true
  }
 },
 "nbformat": 4,
 "nbformat_minor": 4
}
